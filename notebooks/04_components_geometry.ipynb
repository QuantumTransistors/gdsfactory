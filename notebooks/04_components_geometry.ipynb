{
 "cells": [
  {
   "cell_type": "markdown",
   "id": "0",
   "metadata": {},
   "source": [
    "# Geometry\n",
    "\n",
    "gdsfactory provides you with some geometric functions"
   ]
  },
  {
   "cell_type": "markdown",
   "id": "1",
   "metadata": {},
   "source": [
    "## Boolean / outline / offset / invert\n",
    "There are several common boolean-type operations available in the geometry library.  These include typical boolean operations (and/or/not/xor), offsetting (expanding/shrinking polygons), outlining, and inverting."
   ]
  },
  {
   "cell_type": "markdown",
   "id": "2",
   "metadata": {},
   "source": [
    "### Boolean\n",
    "\n",
    "\n",
    "The ``gf.geometry.boolean()`` function can perform AND/OR/NOT/XOR operations, and will return a new geometry with the result of that operation."
   ]
  },
  {
   "cell_type": "code",
   "execution_count": null,
   "id": "3",
   "metadata": {},
   "outputs": [],
   "source": [
    "import gdsfactory as gf\n",
    "\n",
    "E = gf.components.ellipse(radii=(10, 5), layer=(1, 0))\n",
    "R = gf.components.rectangle(size=[15, 5], layer=(2, 0))\n",
    "C = gf.geometry.boolean(A=E, B=R, operation=\"not\", precision=1e-6, layer=(3, 0))\n",
    "# Other operations include 'and', 'or', 'xor', or equivalently 'A-B', 'B-A', 'A+B'\n",
    "\n",
    "# Plot the originals and the result\n",
    "D = gf.Component(\"bool\")\n",
    "D.add_ref(E)\n",
    "D.add_ref(R).movey(-1.5)\n",
    "D.add_ref(C).movex(30)\n",
    "D.plot()"
   ]
  },
  {
   "cell_type": "markdown",
   "id": "4",
   "metadata": {},
   "source": [
    "To learn how booleans work you can try all the different operations `not`, `and`, `or`, `xor`"
   ]
  },
  {
   "cell_type": "code",
   "execution_count": null,
   "id": "5",
   "metadata": {},
   "outputs": [],
   "source": [
    "import gdsfactory as gf\n",
    "\n",
    "operation = \"not\"\n",
    "operation = \"and\"\n",
    "operation = \"or\"\n",
    "operation = \"xor\"\n",
    "\n",
    "r1 = (8, 8)\n",
    "r2 = (11, 4)\n",
    "r1 = (80, 80)\n",
    "r2 = (110, 40)\n",
    "\n",
    "angle_resolution = 0.1\n",
    "\n",
    "c1 = gf.components.ellipse(radii=r1, layer=(1, 0), angle_resolution=angle_resolution)\n",
    "c2 = gf.components.ellipse(radii=r2, layer=(1, 0), angle_resolution=angle_resolution)"
   ]
  },
  {
   "cell_type": "code",
   "execution_count": null,
   "id": "6",
   "metadata": {},
   "outputs": [],
   "source": [
    "%time\n",
    "\n",
    "c3 = gf.geometry.boolean_klayout(\n",
    "    c1, c2, operation=operation, layer1=(1, 0), layer2=(1, 0), layer3=(1, 0)\n",
    ")  # KLayout booleans\n",
    "c3.plot()"
   ]
  },
  {
   "cell_type": "code",
   "execution_count": null,
   "id": "7",
   "metadata": {},
   "outputs": [],
   "source": [
    "%time\n",
    "c4 = gf.geometry.boolean(c1, c2, operation=operation)\n",
    "c4.plot()"
   ]
  },
  {
   "cell_type": "markdown",
   "id": "8",
   "metadata": {},
   "source": [
    "### Offset\n",
    "\n",
    "The ``offset()`` function takes the polygons of the input geometry, combines them together, and expands/contracts them.\n",
    "The function returns polygons on a single layer and does not respect layers."
   ]
  },
  {
   "cell_type": "code",
   "execution_count": null,
   "id": "9",
   "metadata": {},
   "outputs": [],
   "source": [
    "import gdsfactory as gf\n",
    "\n",
    "# Create `T`, an ellipse and rectangle which will be offset (expanded / contracted)\n",
    "T = gf.Component(\"ellipse_and_rectangle\")\n",
    "e = T << gf.components.ellipse(radii=(10, 5), layer=(1, 0))\n",
    "r = T << gf.components.rectangle(size=[15, 5], layer=(2, 0))\n",
    "r.move([3, -2.5])\n",
    "\n",
    "Texpanded = gf.geometry.offset(T, distance=2, precision=1e-6, layer=(2, 0))\n",
    "Texpanded.name = \"expanded\"\n",
    "Tshrink = gf.geometry.offset(T, distance=-1.5, precision=1e-6, layer=(2, 0))\n",
    "Tshrink.name = \"shrink\"\n",
    "\n",
    "# Plot the original geometry, the expanded, and the shrunk versions\n",
    "offsets = gf.Component(\"top\")\n",
    "t1 = offsets.add_ref(T)\n",
    "t2 = offsets.add_ref(Texpanded)\n",
    "t3 = offsets.add_ref(Tshrink)\n",
    "offsets.distribute([t1, t2, t3], direction=\"x\", spacing=5)\n",
    "offsets.plot()"
   ]
  },
  {
   "cell_type": "markdown",
   "id": "10",
   "metadata": {},
   "source": [
    "`gf.geometry.offset` is also useful for remove acute angle DRC errors.\n",
    "\n",
    "You can do a positive offset to grow the polygons followed by a negative offset."
   ]
  },
  {
   "cell_type": "code",
   "execution_count": null,
   "id": "11",
   "metadata": {
    "lines_to_next_cell": 2
   },
   "outputs": [],
   "source": [
    "c = gf.Component(\"demo_dataprep\")\n",
    "c1 = gf.components.coupler_ring(cross_section=\"xs_rc2\", radius=20)\n",
    "c1.plot()"
   ]
  },
  {
   "cell_type": "code",
   "execution_count": null,
   "id": "12",
   "metadata": {},
   "outputs": [],
   "source": [
    "d = 0.8\n",
    "c2 = gf.geometry.offset(c1, distance=+d, layer=(3, 0))\n",
    "c3 = gf.geometry.offset(c2, distance=-d, layer=(3, 0))\n",
    "c << c1\n",
    "c << c3\n",
    "c.plot()"
   ]
  },
  {
   "cell_type": "markdown",
   "id": "13",
   "metadata": {},
   "source": [
    "You can also run it as a function over a Component."
   ]
  },
  {
   "cell_type": "code",
   "execution_count": null,
   "id": "14",
   "metadata": {
    "lines_to_next_cell": 2
   },
   "outputs": [],
   "source": [
    "from functools import partial\n",
    "from gdsfactory.geometry.maskprep import get_polygons_over_under, over_under\n",
    "\n",
    "over_under_slab = partial(over_under, layers=((3, 0),), distances=(0.5,))\n",
    "\n",
    "c1 = gf.components.coupler_ring(cross_section=\"xs_rc2\", radius=20)\n",
    "c2 = over_under_slab(c1)\n",
    "c2.plot()"
   ]
  },
  {
   "cell_type": "markdown",
   "id": "15",
   "metadata": {},
   "source": [
    "You can also add extra polygons on top"
   ]
  },
  {
   "cell_type": "code",
   "execution_count": null,
   "id": "16",
   "metadata": {},
   "outputs": [],
   "source": [
    "get_polygons_over_under_slab = partial(\n",
    "    get_polygons_over_under, layers=[(3, 0)], distances=(0.5,)\n",
    ")\n",
    "ring = gf.components.coupler_ring(cross_section=\"xs_rc2\", radius=20)\n",
    "ring = over_under_slab(ring)\n",
    "\n",
    "c = gf.Component(\"compnent_clean\")\n",
    "ref = c << ring\n",
    "polygons = get_polygons_over_under_slab(ref)\n",
    "c.add(polygons)\n",
    "c.plot()"
   ]
  },
  {
   "cell_type": "markdown",
   "id": "17",
   "metadata": {},
   "source": [
    "The `fix_underplot` decorator performs a combination of offset, AND, and NOT to ensure minimum inclusions of shapes:"
   ]
  },
  {
   "cell_type": "code",
   "execution_count": null,
   "id": "18",
   "metadata": {},
   "outputs": [],
   "source": [
    "from gdsfactory.geometry.maskprep import fix_underplot\n",
    "\n",
    "c1 = gf.Component(\"component_initial\")\n",
    "c1 << gf.components.rectangle(size=(4, 4), layer=\"WG\")\n",
    "c1 << gf.components.rectangle(size=(2, 2), layer=\"SLAB150\")\n",
    "slab = c1 << gf.components.rectangle(size=(2, 2), layer=\"SLAB90\")\n",
    "slab.move((3, 1))\n",
    "c1.plot()"
   ]
  },
  {
   "cell_type": "code",
   "execution_count": null,
   "id": "19",
   "metadata": {},
   "outputs": [],
   "source": [
    "c2 = gf.Component(\"component_clean\")\n",
    "c2 = fix_underplot(\n",
    "    component=c1,\n",
    "    layers_extended=(\"SLAB150\", \"SLAB90\"),\n",
    "    layer_reference=\"WG\",\n",
    "    distance=0.1,\n",
    ")\n",
    "c2.plot()"
   ]
  },
  {
   "cell_type": "markdown",
   "id": "20",
   "metadata": {},
   "source": [
    "### Outline\n",
    "\n",
    "The ``outline()`` function takes the polygons of the input geometry then performs an offset and \"not\" boolean operation to create an outline.  The function returns polygons on a single layer -- it does not respect layers."
   ]
  },
  {
   "cell_type": "code",
   "execution_count": null,
   "id": "21",
   "metadata": {},
   "outputs": [],
   "source": [
    "import gdsfactory as gf\n",
    "\n",
    "# Create a blank device and add two shapes\n",
    "X = gf.Component(\"outline_demo\")\n",
    "X.add_ref(gf.components.cross(length=25, width=1, layer=(1, 0)))\n",
    "X.add_ref(gf.components.ellipse(radii=[10, 5], layer=(2, 0)))\n",
    "\n",
    "O = gf.geometry.outline(X, distance=1.5, precision=1e-6, layer=(3, 0))\n",
    "\n",
    "# Plot the original geometry and the result\n",
    "c = gf.Component(\"outline_compare\")\n",
    "c.add_ref(X)\n",
    "c.add_ref(O).movex(30)\n",
    "c.plot()"
   ]
  },
  {
   "cell_type": "markdown",
   "id": "22",
   "metadata": {},
   "source": [
    "The ``open_ports`` argument opens holes in the outlined geometry at each Port location.\n",
    "\n",
    "- If not False, holes will be cut in the outline such that the Ports are not covered.\n",
    "- If True, the holes will have the same width as the Ports.\n",
    "- If a float, the holes will be widened by that value.\n",
    "- If a float equal to the outline ``distance``, the outline will be flush with the port (useful positive-tone processes)."
   ]
  },
  {
   "cell_type": "code",
   "execution_count": null,
   "id": "23",
   "metadata": {},
   "outputs": [],
   "source": [
    "c = gf.components.L(width=7, size=(10, 20), layer=(1, 0))\n",
    "c.plot()"
   ]
  },
  {
   "cell_type": "code",
   "execution_count": null,
   "id": "24",
   "metadata": {},
   "outputs": [],
   "source": [
    "# Outline the geometry and open a hole at each port\n",
    "c = gf.geometry.outline(offsets, distance=5, open_ports=False, layer=(2, 0))  # No holes\n",
    "c.plot()"
   ]
  },
  {
   "cell_type": "code",
   "execution_count": null,
   "id": "25",
   "metadata": {},
   "outputs": [],
   "source": [
    "c = gf.geometry.outline(\n",
    "    offsets, distance=5, open_ports=True, layer=(2, 0)\n",
    ")  # Hole is the same width as the port\n",
    "c.plot()"
   ]
  },
  {
   "cell_type": "code",
   "execution_count": null,
   "id": "26",
   "metadata": {},
   "outputs": [],
   "source": [
    "c = gf.geometry.outline(\n",
    "    offsets, distance=5, open_ports=10, layer=(2, 0)\n",
    ")  # Change the hole size by entering a float\n",
    "c.plot()"
   ]
  },
  {
   "cell_type": "code",
   "execution_count": null,
   "id": "27",
   "metadata": {},
   "outputs": [],
   "source": [
    "c = gf.geometry.outline(\n",
    "    offsets, distance=5, open_ports=5, layer=(2, 0)\n",
    ")  # Creates flush opening (open_ports > distance)\n",
    "c.plot()"
   ]
  },
  {
   "cell_type": "markdown",
   "id": "28",
   "metadata": {},
   "source": [
    "### Invert\n",
    "\n",
    "Sometimes you need to define not what you keep (positive resist) but what you etch (negative resist). We have some useful functions to invert the tone.\n",
    "The ``gf.boolean.invert()`` function creates an inverted version of the input geometry.\n",
    "The function creates a rectangle around the geometry (with extra padding of distance ``border``), then subtract all polygons from all layers from that rectangle, resulting in an inverted version of the geometry."
   ]
  },
  {
   "cell_type": "code",
   "execution_count": null,
   "id": "29",
   "metadata": {},
   "outputs": [],
   "source": [
    "import gdsfactory as gf\n",
    "\n",
    "E = gf.components.ellipse(radii=(10, 5))\n",
    "D = gf.geometry.invert(E, border=0.5, precision=1e-6, layer=(2, 0))\n",
    "D.plot()"
   ]
  },
  {
   "cell_type": "code",
   "execution_count": null,
   "id": "30",
   "metadata": {},
   "outputs": [],
   "source": [
    "c = gf.components.add_trenches(component=gf.components.coupler)\n",
    "c.plot()"
   ]
  },
  {
   "cell_type": "code",
   "execution_count": null,
   "id": "31",
   "metadata": {},
   "outputs": [],
   "source": [
    "c = gf.components.add_trenches(component=gf.components.ring_single)\n",
    "c.plot()"
   ]
  },
  {
   "cell_type": "markdown",
   "id": "32",
   "metadata": {},
   "source": [
    "### Union\n",
    "\n",
    "The ``union()`` function is a \"join\" function, and is functionally identical to the \"OR\" operation of ``gf.boolean()``.  The one difference is it's able to perform this function layer-wise, so each layer can be individually combined."
   ]
  },
  {
   "cell_type": "code",
   "execution_count": null,
   "id": "33",
   "metadata": {},
   "outputs": [],
   "source": [
    "import gdsfactory as gf\n",
    "\n",
    "D = gf.Component(\"union\")\n",
    "e0 = D << gf.components.ellipse(layer=(1, 0))\n",
    "e1 = D << gf.components.ellipse(layer=(2, 0))\n",
    "e2 = D << gf.components.ellipse(layer=(3, 0))\n",
    "e3 = D << gf.components.ellipse(layer=(4, 0))\n",
    "e4 = D << gf.components.ellipse(layer=(5, 0))\n",
    "e5 = D << gf.components.ellipse(layer=(6, 0))\n",
    "\n",
    "e1.rotate(15 * 1)\n",
    "e2.rotate(15 * 2)\n",
    "e3.rotate(15 * 3)\n",
    "e4.rotate(15 * 4)\n",
    "e5.rotate(15 * 5)\n",
    "\n",
    "D.plot()"
   ]
  },
  {
   "cell_type": "code",
   "execution_count": null,
   "id": "34",
   "metadata": {},
   "outputs": [],
   "source": [
    "# We have two options to unioning - take all polygons, regardless of\n",
    "# layer, and join them together (in this case on layer (2,0) like so:\n",
    "D_joined = gf.geometry.union(D, by_layer=False, layer=(2, 0))\n",
    "D_joined"
   ]
  },
  {
   "cell_type": "code",
   "execution_count": null,
   "id": "35",
   "metadata": {},
   "outputs": [],
   "source": [
    "# Or we can perform the union operate by-layer\n",
    "D_joined_by_layer = gf.geometry.union(D, by_layer=True)\n",
    "D_joined_by_layer"
   ]
  },
  {
   "cell_type": "markdown",
   "id": "36",
   "metadata": {},
   "source": [
    "### XOR / diff\n",
    "\n",
    "The ``xor_diff()`` function can be used to compare two geometries and identify where they are different.  Specifically, it performs a layer-wise XOR operation.  If two geometries are identical, the result will be an empty Component.  If they are not identical, any areas not shared by the two geometries will remain."
   ]
  },
  {
   "cell_type": "code",
   "execution_count": null,
   "id": "37",
   "metadata": {},
   "outputs": [],
   "source": [
    "import gdsfactory as gf\n",
    "\n",
    "A = gf.Component(\"A\")\n",
    "A.add_ref(gf.components.ellipse(radii=[10, 5], layer=(1, 0)))\n",
    "A.add_ref(gf.components.text(\"A\")).move([3, 0])\n",
    "\n",
    "B = gf.Component(\"B\")\n",
    "B.add_ref(gf.components.ellipse(radii=[11, 4], layer=(1, 0))).movex(4)\n",
    "B.add_ref(gf.components.text(\"B\")).move([3.2, 0])\n",
    "X = gf.geometry.xor_diff(A=A, B=B, precision=1e-6)\n",
    "\n",
    "# Plot the original geometry and the result\n",
    "# Upper left: A / Upper right: B\n",
    "# Lower left: A and B / Lower right: A xor B \"diff\" comparison\n",
    "D = gf.Component(\"xor_diff\")\n",
    "D.add_ref(A).move([-15, 25])\n",
    "D.add_ref(B).move([15, 25])\n",
    "D.add_ref(A).movex(-15)\n",
    "D.add_ref(B).movex(-15)\n",
    "D.add_ref(X).movex(15)\n",
    "D.plot()"
   ]
  },
  {
   "cell_type": "markdown",
   "id": "38",
   "metadata": {},
   "source": [
    "## Trim\n",
    "\n",
    "`trim` returns the portion of that component within that domain preserving all layers and (possibly) ports.\n",
    "\n",
    "It's like the opposite of \"add_padding\", and also allows non-rectangular shapes for the padding removal.\n",
    "\n",
    "Useful when resizing an existing component for simulations"
   ]
  },
  {
   "cell_type": "code",
   "execution_count": null,
   "id": "39",
   "metadata": {},
   "outputs": [],
   "source": [
    "c = gf.components.straight_pin(length=10, taper=None)\n",
    "c.plot()"
   ]
  },
  {
   "cell_type": "code",
   "execution_count": null,
   "id": "40",
   "metadata": {},
   "outputs": [],
   "source": [
    "trimmed_c = gf.geometry.trim(component=c, domain=[[0, -5], [0, 5], [5, 5], [5, -5]])\n",
    "trimmed_c.plot()"
   ]
  },
  {
   "cell_type": "markdown",
   "id": "41",
   "metadata": {},
   "source": [
    "## Importing GDS files"
   ]
  },
  {
   "cell_type": "markdown",
   "id": "42",
   "metadata": {},
   "source": [
    "`gf.import_gds()` allows you to easily import external GDSII files.  It imports a single cell from the external GDS file and converts it into a gdsfactory component."
   ]
  },
  {
   "cell_type": "code",
   "execution_count": null,
   "id": "43",
   "metadata": {},
   "outputs": [],
   "source": [
    "D = gf.components.ellipse()\n",
    "D.write_gds(\"myoutput.gds\")\n",
    "D2 = gf.import_gds(gdspath=\"myoutput.gds\", cellname=None, flatten=False)\n",
    "D2.plot()"
   ]
  },
  {
   "cell_type": "markdown",
   "id": "44",
   "metadata": {},
   "source": [
    "## Copying and extracting geometry"
   ]
  },
  {
   "cell_type": "code",
   "execution_count": null,
   "id": "45",
   "metadata": {},
   "outputs": [],
   "source": [
    "E = gf.Component()\n",
    "E.add_ref(gf.components.ellipse(layer=(1, 0)))\n",
    "D = E.extract(layers=[(1, 0)])\n",
    "D.plot()"
   ]
  },
  {
   "cell_type": "code",
   "execution_count": null,
   "id": "46",
   "metadata": {},
   "outputs": [],
   "source": [
    "import gdsfactory as gf\n",
    "\n",
    "X = gf.components.ellipse(layer=(2, 0))\n",
    "c = X.copy()\n",
    "c.plot()"
   ]
  },
  {
   "cell_type": "code",
   "execution_count": null,
   "id": "47",
   "metadata": {},
   "outputs": [],
   "source": [
    "c_copied_layers = gf.components.copy_layers(\n",
    "    gf.components.straight, layers=((1, 0), (2, 0))\n",
    ")\n",
    "c_copied_layers.plot()"
   ]
  },
  {
   "cell_type": "markdown",
   "id": "48",
   "metadata": {},
   "source": [
    "## Import Images into GDS\n",
    "\n",
    "You can import your logo into GDS using the conversion from numpy arrays."
   ]
  },
  {
   "cell_type": "code",
   "execution_count": null,
   "id": "49",
   "metadata": {},
   "outputs": [],
   "source": [
    "from gdsfactory.config import PATH\n",
    "from gdsfactory.read.from_np import from_image\n",
    "import gdsfactory as gf\n",
    "\n",
    "c = from_image(\n",
    "    PATH.module / \"samples\" / \"images\" / \"logo.png\", nm_per_pixel=500, invert=False\n",
    ")\n",
    "c.plot()"
   ]
  },
  {
   "cell_type": "code",
   "execution_count": null,
   "id": "50",
   "metadata": {},
   "outputs": [],
   "source": [
    "c = from_image(\n",
    "    PATH.module / \"samples\" / \"images\" / \"logo.png\", nm_per_pixel=500, invert=True\n",
    ")\n",
    "c.plot()"
   ]
  },
  {
   "cell_type": "markdown",
   "id": "51",
   "metadata": {},
   "source": [
    "## Dummy Fill / Tiling\n",
    "\n",
    "To keep constant density in some layers you can add dummy fill rectangles."
   ]
  },
  {
   "cell_type": "markdown",
   "id": "52",
   "metadata": {},
   "source": [
    "### Custom fill cell\n",
    "\n",
    "You can use a custom cell as a fill."
   ]
  },
  {
   "cell_type": "code",
   "execution_count": null,
   "id": "53",
   "metadata": {},
   "outputs": [],
   "source": [
    "import gdsfactory as gf\n",
    "from gdsfactory.geometry.fill_klayout import fill\n",
    "\n",
    "\n",
    "@gf.cell\n",
    "def cell_with_pad():\n",
    "    c = gf.Component()\n",
    "    mzi = gf.components.mzi()\n",
    "    mzi_with_padding = gf.add_padding_container(mzi)\n",
    "    _ = c << mzi_with_padding\n",
    "    pad = c << gf.components.pad(size=(2, 2))\n",
    "    pad.movey(10)\n",
    "    return c\n",
    "\n",
    "\n",
    "c = cell_with_pad()\n",
    "gf.remove_from_cache(c)\n",
    "gdspath = c.write_gds(\"mzi_fill.gds\")\n",
    "c.plot()"
   ]
  },
  {
   "cell_type": "code",
   "execution_count": null,
   "id": "54",
   "metadata": {},
   "outputs": [],
   "source": [
    "spacing = 20\n",
    "fill_name = fill(\n",
    "    gdspath,\n",
    "    fill_layers=(\"WG\",),\n",
    "    layer_to_fill=(67, 0),\n",
    "    layers_to_avoid=(((1, 0), 0), ((49, 0), 0)),\n",
    "    fill_cell_name=\"pad_size2__2\",\n",
    "    create_new_fill_cell=True,\n",
    "    fill_spacing=(spacing, spacing),\n",
    "    fill_size=(1, 1),\n",
    "    include_original=True,\n",
    "    layer_to_fill_margin=25,\n",
    ")"
   ]
  },
  {
   "cell_type": "code",
   "execution_count": null,
   "id": "55",
   "metadata": {},
   "outputs": [],
   "source": [
    "c_fill = gf.import_gds(gdspath, cellname=fill_name)\n",
    "c_fill.plot()"
   ]
  },
  {
   "cell_type": "markdown",
   "id": "56",
   "metadata": {},
   "source": [
    "### Tiling processor\n",
    "\n",
    "For big layouts you can should use klayout tiling processor."
   ]
  },
  {
   "cell_type": "code",
   "execution_count": null,
   "id": "57",
   "metadata": {},
   "outputs": [],
   "source": [
    "import kfactory as kf\n",
    "\n",
    "import gdsfactory as gf\n",
    "from kfactory.utils.fill import fill_tiled\n",
    "\n",
    "c = kf.KCell(\"ToFill\")\n",
    "c.shapes(kf.kcl.layer(1, 0)).insert(\n",
    "    kf.kdb.DPolygon.ellipse(kf.kdb.DBox(5000, 3000), 512)\n",
    ")\n",
    "c.shapes(kf.kcl.layer(10, 0)).insert(\n",
    "    kf.kdb.DPolygon(\n",
    "        [kf.kdb.DPoint(0, 0), kf.kdb.DPoint(5000, 0), kf.kdb.DPoint(5000, 3000)]\n",
    "    )\n",
    ")\n",
    "\n",
    "fc = kf.KCell(\"fill\")\n",
    "fc.shapes(fc.kcl.layer(2, 0)).insert(kf.kdb.DBox(20, 40))\n",
    "fc.shapes(fc.kcl.layer(3, 0)).insert(kf.kdb.DBox(30, 15))\n",
    "\n",
    "# fill.fill_tiled(c, fc, [(kf.kcl.layer(1,0), 0)], exclude_layers = [(kf.kcl.layer(10,0), 100), (kf.kcl.layer(2,0), 0), (kf.kcl.layer(3,0),0)], x_space=5, y_space=5)\n",
    "fill_tiled(\n",
    "    c,\n",
    "    fc,\n",
    "    [(kf.kcl.layer(1, 0), 0)],\n",
    "    exclude_layers=[\n",
    "        (kf.kcl.layer(10, 0), 100),\n",
    "        (kf.kcl.layer(2, 0), 0),\n",
    "        (kf.kcl.layer(3, 0), 0),\n",
    "    ],\n",
    "    x_space=5,\n",
    "    y_space=5,\n",
    ")\n",
    "\n",
    "gdspath = \"mzi_fill.gds\"\n",
    "c.write(gdspath)\n",
    "c = gf.import_gds(gdspath, cellname=\"ToFill\")\n",
    "c.plot()"
   ]
  }
 ],
 "metadata": {
  "jupytext": {
   "cell_metadata_filter": "-all",
   "custom_cell_magics": "kql"
  },
  "kernelspec": {
   "display_name": "base",
   "language": "python",
   "name": "python3"
  },
  "language_info": {
   "codemirror_mode": {
    "name": "ipython",
    "version": 3
   },
   "file_extension": ".py",
   "mimetype": "text/x-python",
   "name": "python",
   "nbconvert_exporter": "python",
   "pygments_lexer": "ipython3",
   "version": "3.11.5"
  }
 },
 "nbformat": 4,
 "nbformat_minor": 5
}
