{
 "cells": [
  {
   "cell_type": "markdown",
   "id": "0",
   "metadata": {},
   "source": [
    "# Generic PDK\n",
    "\n",
    "gdsfactory includes a generic Process Design Kit PDK, which is a library of components associated to a generic foundry process `gdsfactory.generic_tech`.\n",
    "See components available in the [generic component library](https://gdsfactory.github.io/gdsfactory/components.html) that you can customize or adapt to create your own.\n",
    "\n",
    "The generic process including layer numbers is based on the book \"Silicon Photonics Design: From Devices to Systems Lukas Chrostowski, Michael Hochberg\".\n",
    "You can learn more about process design kits (PDKs) [in this tutorial](https://gdsfactory.github.io/gdsfactory/notebooks/08_pdk.html)\n",
    "\n",
    "## LayerMap\n",
    "\n",
    "A layer map maps layer names to a integer numbers pair (GDSlayer, GDSpurpose)\n",
    "\n",
    "Each foundry uses different GDS layer numbers for different process steps.\n",
    "\n",
    "| GDS (layer, purpose) | layer_name | Description                                                 |\n",
    "| -------------------- | ---------- | ----------------------------------------------------------- |\n",
    "| 1 , 0                | WG         | 220 nm Silicon core                                         |\n",
    "| 2 , 0                | SLAB150    | 150nm Silicon slab (70nm shallow Etch for grating couplers) |\n",
    "| 3 , 0                | SLAB90     | 90nm Silicon slab (for modulators)                          |\n",
    "| 4, 0                 | DEEPTRENCH | Deep trench                                                 |\n",
    "| 47, 0                | MH         | heater                                                      |\n",
    "| 41, 0                | M1         | metal 1                                                     |\n",
    "| 45, 0                | M2         | metal 2                                                     |\n",
    "| 40, 0                | VIAC       | VIAC to contact Ge, NPP or PPP                              |\n",
    "| 44, 0                | VIA1       | VIA1                                                        |\n",
    "| 46, 0                | PADOPEN    | Bond pad opening                                            |\n",
    "| 51, 0                | UNDERCUT   | Undercut                                                    |\n",
    "| 66, 0                | TEXT       | Text markup                                                 |\n",
    "| 64, 0                | FLOORPLAN  | Mask floorplan                                              |\n"
   ]
  },
  {
   "cell_type": "code",
   "execution_count": null,
   "id": "1",
   "metadata": {
    "tags": [
     "hide-input"
    ]
   },
   "outputs": [],
   "source": [
    "import gdsfactory as gf\n",
    "from gdsfactory.generic_tech import LAYER, LAYER_STACK\n",
    "from gdsfactory.generic_tech.get_klayout_pyxs import get_klayout_pyxs\n",
    "from gdsfactory.technology import LayerLevel, LayerStack, LayerViews, LayerMap\n",
    "from gdsfactory.generic_tech import get_generic_pdk\n",
    "from IPython.display import Code\n",
    "\n",
    "from gdsfactory.config import PATH"
   ]
  },
  {
   "cell_type": "code",
   "execution_count": null,
   "id": "2",
   "metadata": {},
   "outputs": [],
   "source": [
    "Layer = tuple[int, int]\n",
    "\n",
    "\n",
    "class GenericLayerMap(LayerMap):\n",
    "    \"\"\"Generic layermap based on book.\n",
    "\n",
    "    Lukas Chrostowski, Michael Hochberg, \"Silicon Photonics Design\",\n",
    "    Cambridge University Press 2015, page 353\n",
    "    You will need to create a new LayerMap with your specific foundry layers.\n",
    "    \"\"\"\n",
    "\n",
    "    WAFER: Layer = (99999, 0)\n",
    "\n",
    "    WG: Layer = (1, 0)\n",
    "    WGCLAD: Layer = (111, 0)\n",
    "    SLAB150: Layer = (2, 0)\n",
    "    SLAB90: Layer = (3, 0)\n",
    "    DEEPTRENCH: Layer = (4, 0)\n",
    "    GE: Layer = (5, 0)\n",
    "    UNDERCUT: Layer = (6, 0)\n",
    "    WGN: Layer = (34, 0)\n",
    "    WGN_CLAD: Layer = (36, 0)\n",
    "\n",
    "    N: Layer = (20, 0)\n",
    "    NP: Layer = (22, 0)\n",
    "    NPP: Layer = (24, 0)\n",
    "    P: Layer = (21, 0)\n",
    "    PP: Layer = (23, 0)\n",
    "    PPP: Layer = (25, 0)\n",
    "    GEN: Layer = (26, 0)\n",
    "    GEP: Layer = (27, 0)\n",
    "\n",
    "    HEATER: Layer = (47, 0)\n",
    "    M1: Layer = (41, 0)\n",
    "    M2: Layer = (45, 0)\n",
    "    M3: Layer = (49, 0)\n",
    "    VIAC: Layer = (40, 0)\n",
    "    VIA1: Layer = (44, 0)\n",
    "    VIA2: Layer = (43, 0)\n",
    "    PADOPEN: Layer = (46, 0)\n",
    "\n",
    "    DICING: Layer = (100, 0)\n",
    "    NO_TILE_SI: Layer = (71, 0)\n",
    "    PADDING: Layer = (67, 0)\n",
    "    DEVREC: Layer = (68, 0)\n",
    "    FLOORPLAN: Layer = (64, 0)\n",
    "    TEXT: Layer = (66, 0)\n",
    "    PORT: Layer = (1, 10)\n",
    "    PORTE: Layer = (1, 11)\n",
    "    PORTH: Layer = (70, 0)\n",
    "    SHOW_PORTS: Layer = (1, 12)\n",
    "    LABEL_SETTINGS: Layer = (202, 0)\n",
    "    DRC_MARKER: Layer = (205, 0)\n",
    "    LABEL_INSTANCE: Layer = (206, 0)\n",
    "\n",
    "    SOURCE: Layer = (110, 0)\n",
    "    MONITOR: Layer = (101, 0)\n",
    "\n",
    "\n",
    "LAYER = GenericLayerMap()\n",
    "LAYER"
   ]
  },
  {
   "cell_type": "code",
   "execution_count": null,
   "id": "3",
   "metadata": {},
   "outputs": [],
   "source": [
    "layer_wg = (1, 0)\n",
    "print(layer_wg)"
   ]
  },
  {
   "cell_type": "markdown",
   "id": "4",
   "metadata": {},
   "source": [
    "### Extract layers\n",
    "\n",
    "You can also extract layers using the `extract` function. This function returns a new flattened Component that contains the extracted layers.\n",
    "A flat Component does not have references, and all the polygons are absorbed into the top cell."
   ]
  },
  {
   "cell_type": "code",
   "execution_count": null,
   "id": "5",
   "metadata": {},
   "outputs": [],
   "source": [
    "from gdsfactory.generic_tech import get_generic_pdk\n",
    "\n",
    "PDK = get_generic_pdk()\n",
    "PDK.activate()\n",
    "\n",
    "LAYER_VIEWS = PDK.layer_views\n",
    "c = LAYER_VIEWS.preview_layerset()\n",
    "c.plot()"
   ]
  },
  {
   "cell_type": "code",
   "execution_count": null,
   "id": "6",
   "metadata": {},
   "outputs": [],
   "source": [
    "extract = c.extract(layers=((41, 0), (40, 0)))\n",
    "extract.plot()"
   ]
  },
  {
   "cell_type": "markdown",
   "id": "7",
   "metadata": {},
   "source": [
    "### Remove layers\n",
    "\n",
    "You can remove layers using the `remove_layers()` function."
   ]
  },
  {
   "cell_type": "code",
   "execution_count": null,
   "id": "8",
   "metadata": {},
   "outputs": [],
   "source": [
    "removed = extract.remove_layers(layers=((40, 0),))\n",
    "removed.plot()"
   ]
  },
  {
   "cell_type": "markdown",
   "id": "9",
   "metadata": {},
   "source": [
    "### Remap layers\n",
    "\n",
    "You can remap (change the polygons from one layer to another layer) using the `remap_layer`, which will return a new `Component`"
   ]
  },
  {
   "cell_type": "code",
   "execution_count": null,
   "id": "10",
   "metadata": {},
   "outputs": [],
   "source": [
    "c = gf.components.straight(layer=(2, 0))\n",
    "c.plot()"
   ]
  },
  {
   "cell_type": "code",
   "execution_count": null,
   "id": "11",
   "metadata": {},
   "outputs": [],
   "source": [
    "remap = c.remap_layers(layermap={(2, 0): (34, 0)})\n",
    "remap.plot()"
   ]
  },
  {
   "cell_type": "markdown",
   "id": "12",
   "metadata": {},
   "source": [
    "## LayerViews\n",
    "\n",
    "Klayout shows each GDS layer with a color, style and transparency\n",
    "\n",
    "You can define your layerViews in a klayout Layer Properties file `layers.lyp` or in `YAML` format\n",
    "\n",
    "We recommend using YAML and then generate the lyp in klayout, as YAML is easier to modify than XML."
   ]
  },
  {
   "cell_type": "code",
   "execution_count": null,
   "id": "13",
   "metadata": {},
   "outputs": [],
   "source": [
    "Code(filename=PATH.klayout_yaml)"
   ]
  },
  {
   "cell_type": "markdown",
   "id": "14",
   "metadata": {},
   "source": [
    "Once you modify the `YAML` file you can easily write it to klayout layer properties `lyp` or the other way around.\n",
    "\n",
    "```\n",
    "YAML <---> LYP\n",
    "```\n",
    "\n",
    "The functions `LayerView.to_lyp(filepath)` and `LayerView.to_yaml(filepath)` allow you to convert from each other.\n",
    "\n",
    "LYP is based on XML so it's much easier to make changes and maintain the equivalent YAML file."
   ]
  },
  {
   "cell_type": "markdown",
   "id": "15",
   "metadata": {},
   "source": [
    "### YAML -> LYP\n",
    "\n",
    "You can easily convert from YAML into Klayout Layer Properties."
   ]
  },
  {
   "cell_type": "code",
   "execution_count": null,
   "id": "16",
   "metadata": {},
   "outputs": [],
   "source": [
    "LAYER_VIEWS = LayerViews(filepath=PATH.klayout_lyp)\n",
    "LAYER_VIEWS.to_lyp(\"extra/klayout_layers.lyp\")"
   ]
  },
  {
   "cell_type": "markdown",
   "id": "17",
   "metadata": {},
   "source": [
    "### LYP -> YAML\n",
    "\n",
    "Sometimes you start from an LYP XML file. We recommend converting to YAML and using the YAML as the layer views source of truth.\n",
    "\n",
    "Layers in YAML are easier to read and modify than doing it in klayout XML format."
   ]
  },
  {
   "cell_type": "code",
   "execution_count": null,
   "id": "18",
   "metadata": {},
   "outputs": [],
   "source": [
    "LAYER_VIEWS = LayerViews(filepath=PATH.klayout_lyp)\n",
    "LAYER_VIEWS.to_yaml(\"extra/layers.yaml\")"
   ]
  },
  {
   "cell_type": "markdown",
   "id": "19",
   "metadata": {},
   "source": [
    "### Preview layerset\n",
    "\n",
    "You can preview all the layers defined in your `LayerViews`"
   ]
  },
  {
   "cell_type": "code",
   "execution_count": null,
   "id": "20",
   "metadata": {},
   "outputs": [],
   "source": [
    "c = LAYER_VIEWS.preview_layerset()\n",
    "c.plot()"
   ]
  },
  {
   "cell_type": "markdown",
   "id": "21",
   "metadata": {},
   "source": [
    "By default the generic PDK has some layers that are not visible and therefore are not shown."
   ]
  },
  {
   "cell_type": "code",
   "execution_count": null,
   "id": "22",
   "metadata": {},
   "outputs": [],
   "source": [
    "c_wg_clad = c.extract(layers=[(1, 0)])\n",
    "c_wg_clad.plot()"
   ]
  },
  {
   "cell_type": "code",
   "execution_count": null,
   "id": "23",
   "metadata": {},
   "outputs": [],
   "source": [
    "LAYER_VIEWS.layer_views[\"WGCLAD\"]"
   ]
  },
  {
   "cell_type": "code",
   "execution_count": null,
   "id": "24",
   "metadata": {},
   "outputs": [],
   "source": [
    "LAYER_VIEWS.layer_views[\"WGCLAD\"].visible"
   ]
  },
  {
   "cell_type": "markdown",
   "id": "25",
   "metadata": {},
   "source": [
    "You can make it visible"
   ]
  },
  {
   "cell_type": "code",
   "execution_count": null,
   "id": "26",
   "metadata": {},
   "outputs": [],
   "source": [
    "LAYER_VIEWS.layer_views[\"WGCLAD\"].visible = True"
   ]
  },
  {
   "cell_type": "code",
   "execution_count": null,
   "id": "27",
   "metadata": {},
   "outputs": [],
   "source": [
    "LAYER_VIEWS.layer_views[\"WGCLAD\"].visible"
   ]
  },
  {
   "cell_type": "code",
   "execution_count": null,
   "id": "28",
   "metadata": {},
   "outputs": [],
   "source": [
    "c_wg_clad = c.extract(layers=[(111, 0)])\n",
    "c_wg_clad.plot()"
   ]
  },
  {
   "cell_type": "markdown",
   "id": "29",
   "metadata": {},
   "source": [
    "## LayerStack\n",
    "\n",
    "Each layer also includes the information of thickness and position of each layer after fabrication.\n",
    "\n",
    "This LayerStack can be used for creating a 3D model with `Component.to_3d` or running Simulations.\n",
    "\n",
    "A GDS has different layers to describe the different fabrication process steps. And each grown layer needs thickness information and z-position in the stack.\n",
    "\n",
    "![layer stack](https://i.imgur.com/GUb1Kav.png)\n",
    "\n",
    "Lets define the layer stack for the generic layers in the generic_technology."
   ]
  },
  {
   "cell_type": "code",
   "execution_count": null,
   "id": "30",
   "metadata": {},
   "outputs": [],
   "source": [
    "from gdsfactory.generic_tech.layer_map import LAYER\n",
    "from gdsfactory.technology import LayerLevel, LayerStack\n",
    "\n",
    "nm = 1e-3\n",
    "\n",
    "\n",
    "def get_layer_stack(\n",
    "    thickness_wg: float = 220 * nm,\n",
    "    thickness_slab_deep_etch: float = 90 * nm,\n",
    "    thickness_slab_shallow_etch: float = 150 * nm,\n",
    "    sidewall_angle_wg: float = 10,\n",
    "    thickness_clad: float = 3.0,\n",
    "    thickness_nitride: float = 350 * nm,\n",
    "    thickness_ge: float = 500 * nm,\n",
    "    gap_silicon_to_nitride: float = 100 * nm,\n",
    "    zmin_heater: float = 1.1,\n",
    "    zmin_metal1: float = 1.1,\n",
    "    thickness_metal1: float = 700 * nm,\n",
    "    zmin_metal2: float = 2.3,\n",
    "    thickness_metal2: float = 700 * nm,\n",
    "    zmin_metal3: float = 3.2,\n",
    "    thickness_metal3: float = 2000 * nm,\n",
    "    substrate_thickness: float = 10.0,\n",
    "    box_thickness: float = 3.0,\n",
    "    undercut_thickness: float = 5.0,\n",
    ") -> LayerStack:\n",
    "    \"\"\"Returns generic LayerStack.\n",
    "\n",
    "    based on paper https://www.degruyter.com/document/doi/10.1515/nanoph-2013-0034/html\n",
    "\n",
    "    Args:\n",
    "        thickness_wg: waveguide thickness in um.\n",
    "        thickness_slab_deep_etch: for deep etched slab.\n",
    "        thickness_shallow_etch: thickness for the etch.\n",
    "        sidewall_angle_wg: waveguide side angle.\n",
    "        thickness_clad: cladding thickness in um.\n",
    "        thickness_nitride: nitride thickness in um.\n",
    "        thickness_ge: germanium thickness.\n",
    "        gap_silicon_to_nitride: distance from silicon to nitride in um.\n",
    "        zmin_heater: TiN heater.\n",
    "        zmin_metal1: metal1.\n",
    "        thickness_metal1: metal1 thickness.\n",
    "        zmin_metal2: metal2.\n",
    "        thickness_metal2: metal2 thickness.\n",
    "        zmin_metal3: metal3.\n",
    "        thickness_metal3: metal3 thickness.\n",
    "        substrate_thickness: substrate thickness in um.\n",
    "        box_thickness: bottom oxide thickness in um.\n",
    "        undercut_thickness: thickness of the silicon undercut.\n",
    "    \"\"\"\n",
    "\n",
    "    thickness_deep_etch = thickness_wg - thickness_slab_deep_etch\n",
    "    thickness_shallow_etch = thickness_wg - thickness_slab_shallow_etch\n",
    "\n",
    "    return LayerStack(\n",
    "        layers=dict(\n",
    "            substrate=LayerLevel(\n",
    "                layer=LAYER.WAFER,\n",
    "                thickness=substrate_thickness,\n",
    "                zmin=-substrate_thickness - box_thickness,\n",
    "                material=\"si\",\n",
    "                mesh_order=101,\n",
    "                background_doping={\"concentration\": \"1E14\", \"ion\": \"Boron\"},\n",
    "                orientation=\"100\",\n",
    "            ),\n",
    "            box=LayerLevel(\n",
    "                layer=LAYER.WAFER,\n",
    "                thickness=box_thickness,\n",
    "                zmin=-box_thickness,\n",
    "                material=\"sio2\",\n",
    "                mesh_order=9,\n",
    "            ),\n",
    "            core=LayerLevel(\n",
    "                layer=LAYER.WG,\n",
    "                thickness=thickness_wg,\n",
    "                zmin=0.0,\n",
    "                material=\"si\",\n",
    "                mesh_order=2,\n",
    "                sidewall_angle=sidewall_angle_wg,\n",
    "                width_to_z=0.5,\n",
    "                background_doping_concentration=1e14,\n",
    "                background_doping_ion=\"Boron\",\n",
    "                orientation=\"100\",\n",
    "                info={\"active\": True},\n",
    "            ),\n",
    "            shallow_etch=LayerLevel(\n",
    "                layer=LAYER.SHALLOW_ETCH,\n",
    "                thickness=thickness_shallow_etch,\n",
    "                zmin=0.0,\n",
    "                material=\"si\",\n",
    "                mesh_order=1,\n",
    "                layer_type=\"etch\",\n",
    "                into=[\"core\"],\n",
    "                derived_layer=LAYER.SLAB150,\n",
    "            ),\n",
    "            deep_etch=LayerLevel(\n",
    "                layer=LAYER.DEEP_ETCH,\n",
    "                thickness=thickness_deep_etch,\n",
    "                zmin=0.0,\n",
    "                material=\"si\",\n",
    "                mesh_order=1,\n",
    "                layer_type=\"etch\",\n",
    "                into=[\"core\"],\n",
    "                derived_layer=LAYER.SLAB90,\n",
    "            ),\n",
    "            clad=LayerLevel(\n",
    "                # layer=LAYER.WGCLAD,\n",
    "                layer=LAYER.WAFER,\n",
    "                zmin=0.0,\n",
    "                material=\"sio2\",\n",
    "                thickness=thickness_clad,\n",
    "                mesh_order=10,\n",
    "            ),\n",
    "            slab150=LayerLevel(\n",
    "                layer=LAYER.SLAB150,\n",
    "                thickness=150e-3,\n",
    "                zmin=0,\n",
    "                material=\"si\",\n",
    "                mesh_order=3,\n",
    "            ),\n",
    "            slab90=LayerLevel(\n",
    "                layer=LAYER.SLAB90,\n",
    "                thickness=thickness_slab_deep_etch,\n",
    "                zmin=0.0,\n",
    "                material=\"si\",\n",
    "                mesh_order=2,\n",
    "            ),\n",
    "            nitride=LayerLevel(\n",
    "                layer=LAYER.WGN,\n",
    "                thickness=thickness_nitride,\n",
    "                zmin=thickness_wg + gap_silicon_to_nitride,\n",
    "                material=\"sin\",\n",
    "                mesh_order=2,\n",
    "            ),\n",
    "            ge=LayerLevel(\n",
    "                layer=LAYER.GE,\n",
    "                thickness=thickness_ge,\n",
    "                zmin=thickness_wg,\n",
    "                material=\"ge\",\n",
    "                mesh_order=1,\n",
    "            ),\n",
    "            undercut=LayerLevel(\n",
    "                layer=LAYER.UNDERCUT,\n",
    "                thickness=-undercut_thickness,\n",
    "                zmin=-box_thickness,\n",
    "                material=\"air\",\n",
    "                z_to_bias=(\n",
    "                    [0, 0.3, 0.6, 0.8, 0.9, 1],\n",
    "                    [-0, -0.5, -1, -1.5, -2, -2.5],\n",
    "                ),\n",
    "                mesh_order=1,\n",
    "            ),\n",
    "            via_contact=LayerLevel(\n",
    "                layer=LAYER.VIAC,\n",
    "                thickness=zmin_metal1 - thickness_slab_deep_etch,\n",
    "                zmin=thickness_slab_deep_etch,\n",
    "                material=\"Aluminum\",\n",
    "                mesh_order=1,\n",
    "                sidewall_angle=-10,\n",
    "                width_to_z=0,\n",
    "            ),\n",
    "            metal1=LayerLevel(\n",
    "                layer=LAYER.M1,\n",
    "                thickness=thickness_metal1,\n",
    "                zmin=zmin_metal1,\n",
    "                material=\"Aluminum\",\n",
    "                mesh_order=2,\n",
    "            ),\n",
    "            heater=LayerLevel(\n",
    "                layer=LAYER.HEATER,\n",
    "                thickness=750e-3,\n",
    "                zmin=zmin_heater,\n",
    "                material=\"TiN\",\n",
    "                mesh_order=2,\n",
    "            ),\n",
    "            via1=LayerLevel(\n",
    "                layer=LAYER.VIA1,\n",
    "                thickness=zmin_metal2 - (zmin_metal1 + thickness_metal1),\n",
    "                zmin=zmin_metal1 + thickness_metal1,\n",
    "                material=\"Aluminum\",\n",
    "                mesh_order=1,\n",
    "            ),\n",
    "            metal2=LayerLevel(\n",
    "                layer=LAYER.M2,\n",
    "                thickness=thickness_metal2,\n",
    "                zmin=zmin_metal2,\n",
    "                material=\"Aluminum\",\n",
    "                mesh_order=2,\n",
    "            ),\n",
    "            via2=LayerLevel(\n",
    "                layer=LAYER.VIA2,\n",
    "                thickness=zmin_metal3 - (zmin_metal2 + thickness_metal2),\n",
    "                zmin=zmin_metal2 + thickness_metal2,\n",
    "                material=\"Aluminum\",\n",
    "                mesh_order=1,\n",
    "            ),\n",
    "            metal3=LayerLevel(\n",
    "                layer=LAYER.M3,\n",
    "                thickness=thickness_metal3,\n",
    "                zmin=zmin_metal3,\n",
    "                material=\"Aluminum\",\n",
    "                mesh_order=2,\n",
    "            ),\n",
    "        )\n",
    "    )\n",
    "\n",
    "\n",
    "LAYER_STACK = get_layer_stack()\n",
    "layer_stack220 = LAYER_STACK"
   ]
  },
  {
   "cell_type": "code",
   "execution_count": null,
   "id": "31",
   "metadata": {},
   "outputs": [],
   "source": [
    "c = gf.components.straight_heater_doped_rib(length=100)\n",
    "c.plot()"
   ]
  },
  {
   "cell_type": "code",
   "execution_count": null,
   "id": "32",
   "metadata": {},
   "outputs": [],
   "source": [
    "scene = c.to_3d(layer_stack=layer_stack220)\n",
    "scene.show()"
   ]
  },
  {
   "cell_type": "code",
   "execution_count": null,
   "id": "33",
   "metadata": {},
   "outputs": [],
   "source": [
    "c = gf.components.straight_heater_metal(length=90)\n",
    "c.plot()"
   ]
  },
  {
   "cell_type": "code",
   "execution_count": null,
   "id": "34",
   "metadata": {},
   "outputs": [],
   "source": [
    "scene = c.to_3d(layer_stack=layer_stack220)\n",
    "scene.show()"
   ]
  },
  {
   "cell_type": "code",
   "execution_count": null,
   "id": "35",
   "metadata": {},
   "outputs": [],
   "source": [
    "c = gf.components.taper_strip_to_ridge_trenches()\n",
    "c.plot()"
   ]
  },
  {
   "cell_type": "code",
   "execution_count": null,
   "id": "36",
   "metadata": {},
   "outputs": [],
   "source": [
    "scene = c.to_3d(layer_stack=layer_stack220)\n",
    "scene.show()"
   ]
  },
  {
   "cell_type": "code",
   "execution_count": null,
   "id": "37",
   "metadata": {},
   "outputs": [],
   "source": [
    "# lets assume we have 900nm silicon instead of 220nm, You will see a much thicker waveguide under the metal heater.\n",
    "layer_stack900 = get_layer_stack(thickness_wg=900 * nm)\n",
    "scene = c.to_3d(layer_stack=layer_stack900)\n",
    "scene.show()"
   ]
  },
  {
   "cell_type": "code",
   "execution_count": null,
   "id": "38",
   "metadata": {},
   "outputs": [],
   "source": [
    "import gdsfactory as gf\n",
    "\n",
    "c = gf.components.grating_coupler_elliptical_trenches()\n",
    "c.plot()"
   ]
  },
  {
   "cell_type": "code",
   "execution_count": null,
   "id": "39",
   "metadata": {},
   "outputs": [],
   "source": [
    "scene = c.to_3d()\n",
    "scene.show()"
   ]
  },
  {
   "cell_type": "markdown",
   "id": "40",
   "metadata": {},
   "source": [
    "### 3D rendering\n",
    "\n",
    "To render components in 3D you will need to define two things:\n",
    "\n",
    "1. LayerStack: for each layer contains thickness of each material and z position\n",
    "2. LayerViews: for each layer contains view (color, pattern, opacity). You can load it with `gf.technology.LayerView.load_lyp()`"
   ]
  },
  {
   "cell_type": "code",
   "execution_count": null,
   "id": "41",
   "metadata": {},
   "outputs": [],
   "source": [
    "heater = gf.components.straight_heater_metal(length=90)\n",
    "heater.plot()"
   ]
  },
  {
   "cell_type": "code",
   "execution_count": null,
   "id": "42",
   "metadata": {},
   "outputs": [],
   "source": [
    "scene = heater.to_3d()\n",
    "scene.show()"
   ]
  },
  {
   "cell_type": "markdown",
   "id": "43",
   "metadata": {},
   "source": [
    "### Klayout 2.5D view\n",
    "\n",
    "From the `LayerStack` you can generate the KLayout 2.5D view script."
   ]
  },
  {
   "cell_type": "code",
   "execution_count": null,
   "id": "44",
   "metadata": {},
   "outputs": [],
   "source": [
    "LAYER_STACK.get_klayout_3d_script()"
   ]
  },
  {
   "cell_type": "markdown",
   "id": "45",
   "metadata": {},
   "source": [
    "Then you go go Tools → Manage Technologies\n",
    "\n",
    "\n",
    "![klayout](https://i.imgur.com/KCcMRBO.png)\n",
    "\n",
    "and Paste the 2.5D view script\n",
    "\n",
    "![paste](https://i.imgur.com/CoTythB.png)"
   ]
  },
  {
   "cell_type": "markdown",
   "id": "46",
   "metadata": {},
   "source": [
    "### Klayout cross-section\n",
    "\n",
    "You can also install the [KLayout cross-section plugin](https://gdsfactory.github.io/klayout_pyxs/README.html)\n",
    "\n",
    "![xsection](https://i.imgur.com/xpPS8fM.png)\n",
    "\n",
    "This is not integrated with the LayerStack but you can customize the script in `gdsfactory.generic_tech.get_klayout_pyxs` for your technology."
   ]
  },
  {
   "cell_type": "code",
   "execution_count": null,
   "id": "47",
   "metadata": {
    "lines_to_next_cell": 2
   },
   "outputs": [],
   "source": [
    "nm = 1e-3\n",
    "if __name__ == \"__main__\":\n",
    "    script = get_klayout_pyxs(\n",
    "        t_box=2.0,\n",
    "        t_slab=110 * nm,\n",
    "        t_si=220 * nm,\n",
    "        t_ge=400 * nm,\n",
    "        t_nitride=400 * nm,\n",
    "        h_etch1=0.07,\n",
    "        h_etch2=0.06,\n",
    "        h_etch3=0.09,\n",
    "        t_clad=0.6,\n",
    "        t_m1=0.5,\n",
    "        t_m2=0.5,\n",
    "        t_m3=2.0,\n",
    "        gap_m1_m2=0.6,\n",
    "        gap_m2_m3=0.3,\n",
    "        t_heater=0.1,\n",
    "        gap_oxide_nitride=0.82,\n",
    "        t_m1_oxide=0.6,\n",
    "        t_m2_oxide=2.0,\n",
    "        t_m3_oxide=0.5,\n",
    "        layer_wg=(1, 0),\n",
    "        layer_fc=(2, 0),\n",
    "        layer_rib=LAYER.SLAB90,\n",
    "        layer_n=LAYER.N,\n",
    "        layer_np=LAYER.NP,\n",
    "        layer_npp=LAYER.NPP,\n",
    "        layer_p=LAYER.P,\n",
    "        layer_pp=LAYER.PP,\n",
    "        layer_ppp=LAYER.PPP,\n",
    "        layer_PDPP=LAYER.GEP,\n",
    "        layer_nitride=LAYER.WGN,\n",
    "        layer_Ge=LAYER.GE,\n",
    "        layer_GePPp=LAYER.GEP,\n",
    "        layer_GeNPP=LAYER.GEN,\n",
    "        layer_viac=LAYER.VIAC,\n",
    "        layer_viac_slot=LAYER.VIAC,\n",
    "        layer_m1=LAYER.M1,\n",
    "        layer_mh=LAYER.HEATER,\n",
    "        layer_via1=LAYER.VIA1,\n",
    "        layer_m2=LAYER.M2,\n",
    "        layer_via2=LAYER.VIA2,\n",
    "        layer_m3=LAYER.M3,\n",
    "        layer_open=LAYER.PADOPEN,\n",
    "    )\n",
    "\n",
    "    # script_path = pathlib.Path(__file__).parent.absolute() / \"xsection_planarized.pyxs\"\n",
    "    # script_path.write_text(script)\n",
    "    print(script)"
   ]
  },
  {
   "cell_type": "markdown",
   "id": "48",
   "metadata": {},
   "source": [
    "![xsection generic](https://i.imgur.com/H5Qiygc.png)"
   ]
  },
  {
   "cell_type": "markdown",
   "id": "49",
   "metadata": {
    "lines_to_next_cell": 2
   },
   "source": [
    "## Process\n",
    "\n",
    "The LayerStack uses the GDS layers to generate a representation of the chip after fabrication.\n",
    "\n",
    "The KLayout cross-section module uses the GDS layers to return a geometric approximation of the processed wafer.\n",
    "\n",
    "Sometimes, however, physical process modeling is desired.\n",
    "\n",
    "For these purposes, Processes acting on an initial substrate \"wafer stack\" can be defined. The waferstack is a LayerStack representing the initial state of the wafer. The processes take in some combination of GDS layers (which may differ from their use in the resulting LayerStack), some processing parameters, and are then run in a sequence.\n",
    "\n",
    "For instance, the early step of the front-end-of-line of the generic process could be approximated as done in `gdsfactory.technology.layer_stack` (the process classes are described in `gdsfactory.technology.processes`):"
   ]
  },
  {
   "cell_type": "code",
   "execution_count": null,
   "id": "50",
   "metadata": {
    "lines_to_next_cell": 2
   },
   "outputs": [],
   "source": [
    "import gdsfactory.technology.processes as gp\n",
    "\n",
    "\n",
    "def get_process():\n",
    "    \"\"\"Returns generic process to generate LayerStack.\n",
    "\n",
    "    Represents processing steps that will result in the GenericLayerStack, starting from the waferstack LayerStack.\n",
    "\n",
    "    based on paper https://www.degruyter.com/document/doi/10.1515/nanoph-2013-0034/html\n",
    "    \"\"\"\n",
    "\n",
    "    return (\n",
    "        gp.Etch(\n",
    "            name=\"strip_etch\",\n",
    "            layer=(1, 0),\n",
    "            positive_tone=False,\n",
    "            depth=0.22 + 0.01,  # slight overetch for numerics\n",
    "            material=\"core\",\n",
    "            resist_thickness=1.0,\n",
    "        ),\n",
    "        gp.Etch(\n",
    "            name=\"slab_etch\",\n",
    "            layer=LAYER.SLAB90,\n",
    "            layers_diff=[(1, 0)],\n",
    "            depth=0.22 - 0.09,\n",
    "            material=\"core\",\n",
    "            resist_thickness=1.0,\n",
    "        ),\n",
    "        # See gplugins.process.implant tables for ballpark numbers\n",
    "        # Adjust to your process\n",
    "        gp.ImplantPhysical(\n",
    "            name=\"deep_n_implant\",\n",
    "            layer=LAYER.N,\n",
    "            energy=100,\n",
    "            ion=\"P\",\n",
    "            dose=1e12,\n",
    "            resist_thickness=1.0,\n",
    "        ),\n",
    "        gp.ImplantPhysical(\n",
    "            name=\"shallow_n_implant\",\n",
    "            layer=LAYER.N,\n",
    "            energy=50,\n",
    "            ion=\"P\",\n",
    "            dose=1e12,\n",
    "            resist_thickness=1.0,\n",
    "        ),\n",
    "        gp.ImplantPhysical(\n",
    "            name=\"deep_p_implant\",\n",
    "            layer=LAYER.P,\n",
    "            energy=50,\n",
    "            ion=\"B\",\n",
    "            dose=1e12,\n",
    "            resist_thickness=1.0,\n",
    "        ),\n",
    "        gp.ImplantPhysical(\n",
    "            name=\"shallow_p_implant\",\n",
    "            layer=LAYER.P,\n",
    "            energy=15,\n",
    "            ion=\"B\",\n",
    "            dose=1e12,\n",
    "            resist_thickness=1.0,\n",
    "        ),\n",
    "        # \"Temperatures of ~1000C for not more than a few seconds\"\n",
    "        # Adjust to your process\n",
    "        # https://en.wikipedia.org/wiki/Rapid_thermal_processing\n",
    "        gp.Anneal(\n",
    "            name=\"dopant_activation\",\n",
    "            time=1,\n",
    "            temperature=1000,\n",
    "        ),\n",
    "    )\n",
    "\n",
    "\n",
    "process = get_process()"
   ]
  },
  {
   "cell_type": "markdown",
   "id": "51",
   "metadata": {},
   "source": [
    "These process dataclasses can then be used in physical simulator plugins."
   ]
  }
 ],
 "metadata": {
  "jupytext": {
   "cell_metadata_filter": "tags,-all",
   "custom_cell_magics": "kql",
   "encoding": "# -*- coding: utf-8 -*-"
  },
  "kernelspec": {
   "display_name": "base",
   "language": "python",
   "name": "python3"
  },
  "language_info": {
   "codemirror_mode": {
    "name": "ipython",
    "version": 3
   },
   "file_extension": ".py",
   "mimetype": "text/x-python",
   "name": "python",
   "nbconvert_exporter": "python",
   "pygments_lexer": "ipython3",
   "version": "3.11.5"
  }
 },
 "nbformat": 4,
 "nbformat_minor": 5
}
