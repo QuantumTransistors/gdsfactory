{
 "cells": [
  {
   "cell_type": "markdown",
   "id": "0",
   "metadata": {},
   "source": [
    "# Routing to IO\n",
    "\n",
    "## Routing electrical\n",
    "For routing low speed DC electrical ports you can use sharp corners instead of smooth bends.\n",
    "\n",
    "You can also define `port.orientation = None` to ignore the port orientation for low speed DC ports."
   ]
  },
  {
   "cell_type": "markdown",
   "id": "1",
   "metadata": {},
   "source": [
    "For single route between ports you can use `get_route_electrical`\n",
    "\n",
    "### get_route_electrical\n",
    "\n",
    "\n",
    "`get_route_electrical` has `bend = wire_corner` with a 90deg bend corner."
   ]
  },
  {
   "cell_type": "code",
   "execution_count": null,
   "id": "2",
   "metadata": {},
   "outputs": [],
   "source": [
    "from functools import partial\n",
    "\n",
    "import gdsfactory as gf\n",
    "from gdsfactory.generic_tech import get_generic_pdk\n",
    "from gdsfactory.samples.big_device import big_device\n",
    "\n",
    "gf.config.rich_output()\n",
    "\n",
    "c = gf.Component(\"pads\")\n",
    "pt = c << gf.components.pad_array(orientation=270, columns=3)\n",
    "pb = c << gf.components.pad_array(orientation=90, columns=3)\n",
    "pt.move((70, 200))\n",
    "c.plot()"
   ]
  },
  {
   "cell_type": "code",
   "execution_count": null,
   "id": "3",
   "metadata": {},
   "outputs": [],
   "source": [
    "c = gf.Component(\"pads_with_routes_with_bends\")\n",
    "pt = c << gf.components.pad_array(orientation=270, columns=3)\n",
    "pb = c << gf.components.pad_array(orientation=90, columns=3)\n",
    "pt.move((70, 200))\n",
    "route = gf.routing.get_route_electrical(\n",
    "    pt.ports[\"e11\"], pb.ports[\"e11\"], bend=\"bend_euler\", radius=30\n",
    ")\n",
    "c.add(route.references)\n",
    "c.plot()"
   ]
  },
  {
   "cell_type": "code",
   "execution_count": null,
   "id": "4",
   "metadata": {},
   "outputs": [],
   "source": [
    "c = gf.Component(\"pads_with_routes_with_wire_corners\")\n",
    "pt = c << gf.components.pad_array(orientation=270, columns=3)\n",
    "pb = c << gf.components.pad_array(orientation=90, columns=3)\n",
    "pt.move((70, 200))\n",
    "route = gf.routing.get_route_electrical(\n",
    "    pt.ports[\"e11\"], pb.ports[\"e11\"], bend=\"wire_corner\"\n",
    ")\n",
    "c.add(route.references)\n",
    "c.plot()"
   ]
  },
  {
   "cell_type": "code",
   "execution_count": null,
   "id": "5",
   "metadata": {},
   "outputs": [],
   "source": [
    "c = gf.Component(\"pads_with_routes_with_wire_corners_no_orientation\")\n",
    "pt = c << gf.components.pad_array(orientation=None, columns=3)\n",
    "pb = c << gf.components.pad_array(orientation=None, columns=3)\n",
    "pt.move((70, 200))\n",
    "route = gf.routing.get_route_electrical(\n",
    "    pt.ports[\"e11\"], pb.ports[\"e11\"], bend=\"wire_corner\"\n",
    ")\n",
    "c.add(route.references)\n",
    "c.plot()"
   ]
  },
  {
   "cell_type": "code",
   "execution_count": null,
   "id": "6",
   "metadata": {},
   "outputs": [],
   "source": [
    "c = gf.Component(\"multi-layer\")\n",
    "columns = 2\n",
    "ptop = c << gf.components.pad_array(columns=columns)\n",
    "pbot = c << gf.components.pad_array(orientation=90, columns=columns)\n",
    "\n",
    "ptop.movex(300)\n",
    "ptop.movey(300)\n",
    "route = gf.routing.get_route_electrical_multilayer(\n",
    "    ptop.ports[\"e11\"],\n",
    "    pbot.ports[\"e11\"],\n",
    "    end_straight_length=100,\n",
    ")\n",
    "c.add(route.references)\n",
    "c.plot()"
   ]
  },
  {
   "cell_type": "markdown",
   "id": "7",
   "metadata": {},
   "source": [
    "There is also `bend = wire_corner45` for 45deg bend corner with parametrizable \"radius\":"
   ]
  },
  {
   "cell_type": "code",
   "execution_count": null,
   "id": "8",
   "metadata": {},
   "outputs": [],
   "source": [
    "c = gf.Component(\"pads_with_routes_with_wire_corner45\")\n",
    "pt = c << gf.components.pad_array(orientation=270, columns=1)\n",
    "pb = c << gf.components.pad_array(orientation=90, columns=1)\n",
    "pt.move((300, 300))\n",
    "route = gf.routing.get_route_electrical(\n",
    "    pt.ports[\"e11\"], pb.ports[\"e11\"], bend=\"wire_corner45\", radius=30\n",
    ")\n",
    "c.add(route.references)\n",
    "c.plot()"
   ]
  },
  {
   "cell_type": "code",
   "execution_count": null,
   "id": "9",
   "metadata": {},
   "outputs": [],
   "source": [
    "c = gf.Component(\"pads_with_routes_with_wire_corner45\")\n",
    "pt = c << gf.components.pad_array(orientation=270, columns=1)\n",
    "pb = c << gf.components.pad_array(orientation=90, columns=1)\n",
    "pt.move((300, 300))\n",
    "route = gf.routing.get_route_electrical(\n",
    "    pt.ports[\"e11\"], pb.ports[\"e11\"], bend=\"wire_corner45\", radius=100\n",
    ")\n",
    "c.add(route.references)\n",
    "c.plot()"
   ]
  },
  {
   "cell_type": "markdown",
   "id": "10",
   "metadata": {},
   "source": [
    "### route_quad"
   ]
  },
  {
   "cell_type": "code",
   "execution_count": null,
   "id": "11",
   "metadata": {},
   "outputs": [],
   "source": [
    "c = gf.Component(\"pads_route_quad\")\n",
    "pt = c << gf.components.pad_array(orientation=270, columns=3)\n",
    "pb = c << gf.components.pad_array(orientation=90, columns=3)\n",
    "pt.move((100, 200))\n",
    "route = c << gf.routing.route_quad(pt.ports[\"e11\"], pb.ports[\"e11\"], layer=(49, 0))\n",
    "c.plot()"
   ]
  },
  {
   "cell_type": "markdown",
   "id": "12",
   "metadata": {},
   "source": [
    "### get_route_from_steps"
   ]
  },
  {
   "cell_type": "code",
   "execution_count": null,
   "id": "13",
   "metadata": {},
   "outputs": [],
   "source": [
    "c = gf.Component(\"pads_route_from_steps\")\n",
    "pt = c << gf.components.pad_array(orientation=270, columns=3)\n",
    "pb = c << gf.components.pad_array(orientation=90, columns=3)\n",
    "pt.move((100, 200))\n",
    "route = gf.routing.get_route_from_steps(\n",
    "    pb.ports[\"e11\"],\n",
    "    pt.ports[\"e11\"],\n",
    "    steps=[\n",
    "        {\"y\": 200},\n",
    "    ],\n",
    "    cross_section=\"xs_metal_routing\",\n",
    "    bend=gf.components.wire_corner,\n",
    ")\n",
    "c.add(route.references)\n",
    "c.plot()"
   ]
  },
  {
   "cell_type": "code",
   "execution_count": null,
   "id": "14",
   "metadata": {},
   "outputs": [],
   "source": [
    "c = gf.Component(\"pads_route_from_steps_None_orientation\")\n",
    "pt = c << gf.components.pad_array(orientation=None, columns=3)\n",
    "pb = c << gf.components.pad_array(orientation=None, columns=3)\n",
    "pt.move((100, 200))\n",
    "route = gf.routing.get_route_from_steps(\n",
    "    pb.ports[\"e11\"],\n",
    "    pt.ports[\"e11\"],\n",
    "    steps=[\n",
    "        {\"y\": 200},\n",
    "    ],\n",
    "    cross_section=\"xs_metal_routing\",\n",
    "    bend=gf.components.wire_corner,\n",
    ")\n",
    "c.add(route.references)\n",
    "c.plot()"
   ]
  },
  {
   "cell_type": "markdown",
   "id": "15",
   "metadata": {},
   "source": [
    "### get_bundle_electrical\n",
    "\n",
    "For routing groups of ports you can use `get_bundle` that returns a bundle of routes using a bundle router (also known as bus or river router)"
   ]
  },
  {
   "cell_type": "code",
   "execution_count": null,
   "id": "16",
   "metadata": {},
   "outputs": [],
   "source": [
    "c = gf.Component(\"pads_bundle\")\n",
    "pt = c << gf.components.pad_array(orientation=270, columns=3)\n",
    "pb = c << gf.components.pad_array(orientation=90, columns=3)\n",
    "pt.move((100, 200))\n",
    "\n",
    "routes = gf.routing.get_bundle_electrical(\n",
    "    pb.ports, pt.ports, end_straight_length=60, separation=30\n",
    ")\n",
    "\n",
    "for route in routes:\n",
    "    c.add(route.references)\n",
    "c.plot()"
   ]
  },
  {
   "cell_type": "markdown",
   "id": "17",
   "metadata": {},
   "source": [
    "### get_bundle_from_steps_electrical"
   ]
  },
  {
   "cell_type": "code",
   "execution_count": null,
   "id": "18",
   "metadata": {},
   "outputs": [],
   "source": [
    "c = gf.Component(\"pads_bundle_steps\")\n",
    "pt = c << gf.components.pad_array(\n",
    "    partial(gf.components.pad, size=(30, 30)),\n",
    "    orientation=270,\n",
    "    columns=3,\n",
    "    spacing=(50, 0),\n",
    ")\n",
    "pb = c << gf.components.pad_array(orientation=90, columns=3)\n",
    "pt.move((300, 500))\n",
    "\n",
    "routes = gf.routing.get_bundle_from_steps_electrical(\n",
    "    pb.ports, pt.ports, end_straight_length=60, separation=30, steps=[{\"dy\": 100}]\n",
    ")\n",
    "\n",
    "for route in routes:\n",
    "    c.add(route.references)\n",
    "\n",
    "c.plot()"
   ]
  },
  {
   "cell_type": "markdown",
   "id": "19",
   "metadata": {},
   "source": [
    "### get_bundle_electrical_multilayer\n",
    "\n",
    "To avoid metal crossings you can use one metal layer."
   ]
  },
  {
   "cell_type": "code",
   "execution_count": null,
   "id": "20",
   "metadata": {},
   "outputs": [],
   "source": [
    "c = gf.Component(\"get_bundle_multi_layer\")\n",
    "columns = 2\n",
    "ptop = c << gf.components.pad_array(columns=columns)\n",
    "pbot = c << gf.components.pad_array(orientation=90, columns=columns)\n",
    "\n",
    "ptop.movex(300)\n",
    "ptop.movey(300)\n",
    "routes = gf.routing.get_bundle_electrical_multilayer(\n",
    "    ptop.ports, pbot.ports, end_straight_length=100, separation=20\n",
    ")\n",
    "for route in routes:\n",
    "    c.add(route.references)\n",
    "c.plot()"
   ]
  },
  {
   "cell_type": "markdown",
   "id": "21",
   "metadata": {},
   "source": [
    "## Routing to pads\n",
    "\n",
    "You can also route to electrical pads."
   ]
  },
  {
   "cell_type": "code",
   "execution_count": null,
   "id": "22",
   "metadata": {},
   "outputs": [],
   "source": [
    "c = gf.components.straight_heater_metal(length=100.0)\n",
    "cc = gf.routing.add_pads_bot(component=c, port_names=(\"l_e4\", \"r_e4\"), fanout_length=50)\n",
    "cc.plot()"
   ]
  },
  {
   "cell_type": "code",
   "execution_count": null,
   "id": "23",
   "metadata": {
    "lines_to_next_cell": 2
   },
   "outputs": [],
   "source": [
    "c = gf.components.straight_heater_metal(length=100.0)\n",
    "cc = gf.routing.add_pads_top(component=c)\n",
    "cc.plot()"
   ]
  },
  {
   "cell_type": "code",
   "execution_count": null,
   "id": "24",
   "metadata": {},
   "outputs": [],
   "source": [
    "c = gf.components.straight_heater_metal(length=100.0)\n",
    "cc = gf.routing.add_pads_top(component=c, port_names=(\"l_e2\", \"r_e2\"))\n",
    "cc.plot()"
   ]
  },
  {
   "cell_type": "code",
   "execution_count": null,
   "id": "25",
   "metadata": {},
   "outputs": [],
   "source": [
    "c = gf.c.nxn(\n",
    "    xsize=600,\n",
    "    ysize=200,\n",
    "    north=2,\n",
    "    south=3,\n",
    "    wg_width=10,\n",
    "    layer=\"M3\",\n",
    "    port_type=\"electrical\",\n",
    ")\n",
    "cc = gf.routing.add_pads_top(component=c)\n",
    "cc.plot()"
   ]
  },
  {
   "cell_type": "code",
   "execution_count": null,
   "id": "26",
   "metadata": {},
   "outputs": [],
   "source": [
    "n = west = north = south = east = 10\n",
    "spacing = 20\n",
    "c = gf.components.nxn(\n",
    "    xsize=n * spacing,\n",
    "    ysize=n * spacing,\n",
    "    west=west,\n",
    "    east=east,\n",
    "    north=north,\n",
    "    south=south,\n",
    "    port_type=\"electrical\",\n",
    "    wg_width=10,\n",
    ")\n",
    "c.plot()"
   ]
  },
  {
   "cell_type": "code",
   "execution_count": null,
   "id": "27",
   "metadata": {},
   "outputs": [],
   "source": [
    "cc = gf.routing.add_pads_top(component=c)\n",
    "cc.plot()"
   ]
  },
  {
   "cell_type": "markdown",
   "id": "28",
   "metadata": {},
   "source": [
    "## Routing to optical terminations\n",
    "\n",
    "### Route to Fiber Array\n",
    "\n",
    "You can route to a fiber array."
   ]
  },
  {
   "cell_type": "code",
   "execution_count": null,
   "id": "29",
   "metadata": {},
   "outputs": [],
   "source": [
    "component = big_device(nports=10)\n",
    "c = gf.routing.add_fiber_array(component=component, radius=10.0, fanout_length=60.0)\n",
    "c.plot()"
   ]
  },
  {
   "cell_type": "markdown",
   "id": "30",
   "metadata": {},
   "source": [
    "You can also mix and match TE and TM grating couplers. Notice that the `TM` polarization grating coupler is bigger."
   ]
  },
  {
   "cell_type": "code",
   "execution_count": null,
   "id": "31",
   "metadata": {},
   "outputs": [],
   "source": [
    "import gdsfactory as gf\n",
    "\n",
    "c = gf.components.mzi_phase_shifter()\n",
    "gcte = gf.components.grating_coupler_te\n",
    "\n",
    "cc = gf.routing.add_fiber_array(\n",
    "    component=c,\n",
    "    optical_routing_type=2,\n",
    "    grating_coupler=[\n",
    "        gf.components.grating_coupler_te,\n",
    "        gf.components.grating_coupler_tm,\n",
    "    ],\n",
    "    radius=20,\n",
    ")\n",
    "cc.plot()"
   ]
  },
  {
   "cell_type": "markdown",
   "id": "32",
   "metadata": {},
   "source": [
    "### Route to Single fibers\n",
    "\n",
    "You can route to a single fiber input and single fiber output."
   ]
  },
  {
   "cell_type": "code",
   "execution_count": null,
   "id": "33",
   "metadata": {},
   "outputs": [],
   "source": [
    "c = gf.components.ring_single()\n",
    "cc = gf.routing.add_fiber_single(component=c)\n",
    "cc.plot()"
   ]
  },
  {
   "cell_type": "markdown",
   "id": "34",
   "metadata": {},
   "source": [
    "### Route to edge couplers\n",
    "\n",
    "You can also route Edge couplers to a fiber array or to both sides of the chip.\n",
    "\n",
    "For routing to both sides you can follow different strategies:\n",
    "\n",
    "1. Place the edge couplers and route your components to the edge couplers.\n",
    "2. Extend your component ports to each side.\n",
    "3. Anything you imagine ..."
   ]
  },
  {
   "cell_type": "code",
   "execution_count": null,
   "id": "35",
   "metadata": {},
   "outputs": [],
   "source": [
    "import numpy as np\n",
    "\n",
    "import gdsfactory as gf\n",
    "from gdsfactory.generic_tech import LAYER\n",
    "\n",
    "\n",
    "@gf.cell\n",
    "def sample_die(size=(2e3, 2e3), y_spacing: float = 10) -> gf.Component:\n",
    "    \"\"\"Returns a sample die\n",
    "\n",
    "    Args:\n",
    "        size: size of the die.\n",
    "        y_spacing: spacing between components.\n",
    "\n",
    "    Returns:\n",
    "        c: a sample die.\n",
    "\n",
    "    \"\"\"\n",
    "    c = gf.Component()\n",
    "\n",
    "    die = c << gf.c.rectangle(size=np.array(size), layer=LAYER.FLOORPLAN, centered=True)\n",
    "    die = c << gf.c.rectangle(\n",
    "        size=np.array(size) - 2 * np.array((50, 50)),\n",
    "        layer=LAYER.FLOORPLAN,\n",
    "        centered=True,\n",
    "    )\n",
    "    ymin = die.ymin\n",
    "    ec = gf.components.edge_coupler_silicon()\n",
    "\n",
    "    components = [\n",
    "        \"mzi\",\n",
    "        \"mmi1x2\",\n",
    "        \"spiral_racetrack\",\n",
    "        \"coupler\",\n",
    "        \"ring_single\",\n",
    "        \"ring_double\",\n",
    "    ]\n",
    "\n",
    "    cells = gf.get_active_pdk().cells\n",
    "\n",
    "    for component in components:\n",
    "        function = cells[component]\n",
    "        ci = function()\n",
    "        ci = (\n",
    "            gf.routing.add_pads_top(\n",
    "                ci,\n",
    "                pad=gf.components.pad,\n",
    "                pad_spacing=150,\n",
    "            )\n",
    "            if ci.get_ports_list(port_type=\"electrical\")\n",
    "            else ci\n",
    "        )\n",
    "        ref = c << ci\n",
    "        ref.ymin = ymin\n",
    "        ref.x = 0\n",
    "        ymin = ref.ymax + y_spacing\n",
    "\n",
    "        routes_left, ports_left = gf.routing.route_ports_to_side(\n",
    "            ref.get_ports_list(orientation=180),\n",
    "            cross_section=\"xs_sc\",\n",
    "            side=\"west\",\n",
    "            x=die.xmin + ec.xsize,\n",
    "        )\n",
    "        for route in routes_left:\n",
    "            c.add(route.references)\n",
    "\n",
    "        routes_right, ports_right = gf.routing.route_ports_to_side(\n",
    "            ref.get_ports_list(orientation=0),\n",
    "            cross_section=\"xs_sc\",\n",
    "            x=die.xmax - ec.xsize,\n",
    "            side=\"east\",\n",
    "        )\n",
    "        for route in routes_right:\n",
    "            c.add(route.references)\n",
    "\n",
    "        for port in ports_right:\n",
    "            ref = c << ec\n",
    "            ref.connect(\"o1\", port)\n",
    "            text = c << gf.c.text(\n",
    "                text=f\"{ci.name}-{port.name.split('_')[0]}\", size=10, layer=LAYER.MTOP\n",
    "            )\n",
    "            text.xmax = ref.xmax - 10\n",
    "            text.y = ref.y\n",
    "\n",
    "        for port in ports_left:\n",
    "            ref = c << ec\n",
    "            ref.connect(\"o1\", port)\n",
    "            text = c << gf.c.text(\n",
    "                text=f\"{ci.name}-{port.name.split('_')[0]}\", size=10, layer=LAYER.MTOP\n",
    "            )\n",
    "            text.xmin = ref.xmin + 10\n",
    "            text.y = ref.y\n",
    "\n",
    "    return c\n",
    "\n",
    "\n",
    "c = sample_die()\n",
    "gf.remove_from_cache(c.name)\n",
    "c.show(show_ports=True)  # show in klayout\n",
    "c.plot()  # plot in notebook"
   ]
  },
  {
   "cell_type": "code",
   "execution_count": null,
   "id": "36",
   "metadata": {},
   "outputs": [],
   "source": []
  },
  {
   "cell_type": "code",
   "execution_count": null,
   "id": "37",
   "metadata": {},
   "outputs": [],
   "source": []
  }
 ],
 "metadata": {
  "jupytext": {
   "cell_metadata_filter": "-all",
   "custom_cell_magics": "kql"
  },
  "kernelspec": {
   "display_name": "base",
   "language": "python",
   "name": "python3"
  },
  "language_info": {
   "codemirror_mode": {
    "name": "ipython",
    "version": 3
   },
   "file_extension": ".py",
   "mimetype": "text/x-python",
   "name": "python",
   "nbconvert_exporter": "python",
   "pygments_lexer": "ipython3",
   "version": "3.11.5"
  }
 },
 "nbformat": 4,
 "nbformat_minor": 5
}
